{
 "cells": [
  {
   "cell_type": "code",
   "execution_count": 44,
   "metadata": {},
   "outputs": [],
   "source": [
    "#coding:utf8\n",
    "import sys\n",
    "from pandas import DataFrame   #DataFrame通常來裝二維的表格\n",
    "import pandas as pd            #pandas是流行的做資料分析的包\n",
    " \n",
    "df=pd.read_csv(\"imagenet_urls_examples.txt\",sep='\\t',header=None,names=['A','B'])\n"
   ]
  },
  {
   "cell_type": "code",
   "execution_count": 71,
   "metadata": {},
   "outputs": [],
   "source": [
    "import requests\n",
    "import shutil\n",
    "\n",
    "for i in range(5):\n",
    "    url = df['B'][i]\n",
    "    response = requests.get(url, stream=True)\n",
    "    file_name = url.split('/')[-1]\n",
    "    with open(file_name, 'wb') as file:\n",
    "        shutil.copyfileobj(response.raw, file)"
   ]
  },
  {
   "cell_type": "code",
   "execution_count": null,
   "metadata": {},
   "outputs": [],
   "source": []
  }
 ],
 "metadata": {
  "kernelspec": {
   "display_name": "Python 3",
   "language": "python",
   "name": "python3"
  },
  "language_info": {
   "codemirror_mode": {
    "name": "ipython",
    "version": 3
   },
   "file_extension": ".py",
   "mimetype": "text/x-python",
   "name": "python",
   "nbconvert_exporter": "python",
   "pygments_lexer": "ipython3",
   "version": "3.7.4"
  }
 },
 "nbformat": 4,
 "nbformat_minor": 2
}
