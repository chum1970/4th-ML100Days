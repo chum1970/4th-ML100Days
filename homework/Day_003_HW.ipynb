{
 "cells": [
  {
   "cell_type": "code",
   "execution_count": null,
   "metadata": {},
   "outputs": [],
   "source": [
    "# 專案的目標: \n",
    "#   用AI寫代碼\n",
    "# 使用的技術: \n",
    "#   合理布局嵌套：包括绝对定位转相对定位、冗余节点删除、合理分组、循环判断等方面；\n",
    "#   元素自适应：元素本身扩展性、元素间对齐关系、元素最大宽高容错性；\n",
    "#   语义化：Classname 的多级语义化；\n",
    "#   样式 CSS 表达：背景色、圆角、线条等能用 CV 等方式分析提取样式，尽可能用 CSS 表达样式代替使用图片\n",
    "# 資料來源\n",
    "#   網路取得"
   ]
  }
 ],
 "metadata": {
  "kernelspec": {
   "display_name": "Python 3",
   "language": "python",
   "name": "python3"
  },
  "language_info": {
   "codemirror_mode": {
    "name": "ipython",
    "version": 3
   },
   "file_extension": ".py",
   "mimetype": "text/x-python",
   "name": "python",
   "nbconvert_exporter": "python",
   "pygments_lexer": "ipython3",
   "version": "3.7.4"
  }
 },
 "nbformat": 4,
 "nbformat_minor": 2
}
